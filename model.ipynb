{
 "cells": [
  {
   "cell_type": "code",
   "execution_count": 58,
   "metadata": {},
   "outputs": [],
   "source": [
    "# -*- coding:utf-8 -*-\n",
    "import sys\n",
    "import json\n",
    "import numpy as np\n",
    "import paddle.v2 as paddle"
   ]
  },
  {
   "cell_type": "code",
   "execution_count": 2,
   "metadata": {},
   "outputs": [],
   "source": [
    "paddle.init(use_gpu=False, trainer_count=1)"
   ]
  },
  {
   "cell_type": "code",
   "execution_count": 3,
   "metadata": {},
   "outputs": [],
   "source": [
    "input_data = paddle.layer.data(name='data', type=paddle.data_type.dense_vector_sequence(2048))"
   ]
  },
  {
   "cell_type": "code",
   "execution_count": 4,
   "metadata": {},
   "outputs": [],
   "source": [
    "def rnn(input_seq):\n",
    "    \n",
    "    bidirectional_lstm_1 = paddle.networks.bidirectional_lstm(\n",
    "        input=input_seq,\n",
    "        size=512,\n",
    "        return_seq=True\n",
    "    )\n",
    "    \n",
    "    bidirectional_lstm_2 = paddle.networks.bidirectional_lstm(\n",
    "        input=bidirectional_lstm_1,\n",
    "        size=512,\n",
    "        return_seq=True\n",
    "    )\n",
    "    \n",
    "    fc_1 = paddle.layer.fc(\n",
    "        input=bidirectional_lstm_2,\n",
    "        size=512,\n",
    "        act=paddle.activation.Relu()\n",
    "    )\n",
    "    \n",
    "    fc_2 = paddle.layer.fc(\n",
    "        input=fc_1,\n",
    "        size=100,\n",
    "        act=paddle.activation.Relu()\n",
    "    )\n",
    "    \n",
    "    output = paddle.layer.fc(\n",
    "        input=fc_2,\n",
    "        size=2,\n",
    "        act=paddle.activation.Softmax()\n",
    "    )\n",
    "    return output\n",
    "    "
   ]
  },
  {
   "cell_type": "code",
   "execution_count": 5,
   "metadata": {},
   "outputs": [],
   "source": [
    "# Fake Data\n",
    "def create_reader(length):\n",
    "    \n",
    "    def reader():\n",
    "            \n",
    "        video_length = np.random.randint(3000,4000)\n",
    "\n",
    "        data = np.random.rand(video_length, 2048)\n",
    "        labels = np.random.randint(0,2,video_length)\n",
    "\n",
    "        for i in xrange(video_length/length):\n",
    "            yield data[i*length: (i+1)*length],labels[i*length: (i+1)*length]\n",
    "    return reader"
   ]
  },
  {
   "cell_type": "code",
   "execution_count": 6,
   "metadata": {},
   "outputs": [],
   "source": [
    "def event_handler(event):\n",
    "        if isinstance(event, paddle.event.EndIteration):\n",
    "            if event.batch_id % 20 == 0:\n",
    "                print \"\\nPass %d, Batch %d, Cost %f, %s\" % (\n",
    "                    event.pass_id, event.batch_id, event.cost, event.metrics)\n",
    "            else:\n",
    "                sys.stdout.write('.')\n",
    "                sys.stdout.flush()\n",
    "        if isinstance(event, paddle.event.EndPass):\n",
    "            with open('./params_pass_%d.tar' % event.pass_id, 'w') as f:\n",
    "                trainer.save_parameter_to_tar(f)"
   ]
  },
  {
   "cell_type": "code",
   "execution_count": 7,
   "metadata": {},
   "outputs": [],
   "source": [
    "is_train = True"
   ]
  },
  {
   "cell_type": "code",
   "execution_count": 8,
   "metadata": {},
   "outputs": [
    {
     "name": "stdout",
     "output_type": "stream",
     "text": [
      "\n",
      "Pass 0, Batch 0, Cost 6.924755, {}\n",
      "...........\n",
      "Pass 1, Batch 0, Cost 7.097571, {}\n",
      "..........\n",
      "Pass 2, Batch 0, Cost 6.929973, {}\n",
      "...........\n",
      "Pass 3, Batch 0, Cost 6.969117, {}\n",
      "............"
     ]
    }
   ],
   "source": [
    "output = rnn(input_data)\n",
    "\n",
    "if is_train:\n",
    "    input_label = paddle.layer.data(name='label', type=paddle.data_type.integer_value_sequence(2))\n",
    "    cost = paddle.layer.cross_entropy_cost(input=output, label=input_label)\n",
    "    train_reader = create_reader(10)\n",
    "    train_reader = paddle.batch(reader=train_reader,batch_size=32)\n",
    "    feeding = {'data':0, 'label':1}\n",
    "    adam_optimizer = paddle.optimizer.Adam(learning_rate=2e-4,\n",
    "        regularization=paddle.optimizer.L2Regularization(rate=8e-4),\n",
    "        model_average=paddle.optimizer.ModelAverage(average_window=0.5))\n",
    "    \n",
    "    parameters = paddle.parameters.create(cost)\n",
    "    trainer = paddle.trainer.SGD(cost=cost,parameters=parameters,update_equation=adam_optimizer)\n",
    "\n",
    "    trainer.train(reader=train_reader,event_handler=event_handler,feeding=feeding,num_passes=4)"
   ]
  },
  {
   "cell_type": "code",
   "execution_count": 9,
   "metadata": {},
   "outputs": [],
   "source": [
    "def generate_inference_data():\n",
    "    \n",
    "    video_length = np.random.randint(3000,4000)\n",
    "\n",
    "    data = np.random.rand(video_length, 2048)\n",
    "    \n",
    "    return data"
   ]
  },
  {
   "cell_type": "code",
   "execution_count": 12,
   "metadata": {},
   "outputs": [],
   "source": [
    "def inference(x):\n",
    "    with open('params_pass_3.tar', 'r') as f:\n",
    "        parameters = paddle.parameters.Parameters.from_tar(f)\n",
    "    probs = paddle.infer(output_layer=output, parameters=parameters, input=[[x,]], feeding={'data': 0})\n",
    "    \n",
    "    return probs\n",
    "    "
   ]
  },
  {
   "cell_type": "code",
   "execution_count": 13,
   "metadata": {},
   "outputs": [],
   "source": [
    "infer_x = generate_inference_data()\n",
    "result = inference(infer_x)"
   ]
  },
  {
   "cell_type": "code",
   "execution_count": 14,
   "metadata": {},
   "outputs": [],
   "source": [
    "predict = np.argmax(result, axis=1)"
   ]
  },
  {
   "cell_type": "code",
   "execution_count": 55,
   "metadata": {},
   "outputs": [],
   "source": [
    "def generate_result(prediction, probs):\n",
    "    \n",
    "    # result: [((start, end),prob),....]\n",
    "    result = []\n",
    "    \n",
    "    current_start = -1\n",
    "    current_end = 0\n",
    "    # 间隔空白\n",
    "    blank_threshhold = 10\n",
    "    # 最小长度\n",
    "    min_lengths = 5\n",
    "    \n",
    "    state = 0\n",
    "    # state = 0 未找到start\n",
    "    # state = 1 找到start，未找到end, 当前值为1\n",
    "    # state = 2 找到start，未找到end, 当前值为0\n",
    "    # state = 3 中间隔了很多空白\n",
    "\n",
    "    for i in xrange(prediction.shape[0]):\n",
    "        if state == 0 and prediction[i] == 1:\n",
    "            \n",
    "            current_start = i\n",
    "            state = 1\n",
    "            continue\n",
    "            \n",
    "        if state == 1 and prediction[i] == 1:\n",
    "            \n",
    "            current_end = i\n",
    "            continue\n",
    "        \n",
    "        if state == 1 and prediction[i] == 0:\n",
    "            \n",
    "            state = 2\n",
    "            continue\n",
    "        \n",
    "        if state == 2 and prediction[i] == 1:\n",
    "            \n",
    "            distance = i - current_end\n",
    "            if distance > blank_threshhold:\n",
    "                \n",
    "                length = current_end - current_start + 1\n",
    "                prob = sum(probs[current_start: current_end+1])/length\n",
    "                current_start = -1\n",
    "                current_end = -1\n",
    "                state = 0\n",
    "                if length <= min_lengths:\n",
    "                    current_start = -1\n",
    "                    current_end = -1\n",
    "                    continue\n",
    "                result.append(([current_start, current_end],prob))\n",
    "                current_start = -1\n",
    "                current_end = -1\n",
    "                continue\n",
    "            else:\n",
    "                \n",
    "                if distance < blank_threshhold/2:\n",
    "                    current_end = i\n",
    "                    state = 1\n",
    "                    continue\n",
    "                else:\n",
    "                    state = 3\n",
    "                    continue\n",
    "                    \n",
    "        if state == 3 and prediction[i] == 1:\n",
    "            current_end = i\n",
    "            state = 1\n",
    "            continue\n",
    "        \n",
    "        if state == 3 and prediction[i] == 0:\n",
    "            \n",
    "            length = current_end - current_start + 1\n",
    "            prob = sum(probs[current_start: current_end+1])/length\n",
    "\n",
    "            state = 0\n",
    "            if length <= min_lengths:\n",
    "                current_start = -1\n",
    "                current_end = -1\n",
    "                continue\n",
    "            result.append(([current_start, current_end],prob))\n",
    "            current_start = -1\n",
    "            current_end = -1\n",
    "            continue\n",
    "        \n",
    "    return result\n"
   ]
  },
  {
   "cell_type": "code",
   "execution_count": 18,
   "metadata": {},
   "outputs": [],
   "source": [
    "def fake_prediction(size):\n",
    "    x0 = np.random.random(size=[size, 1])\n",
    "    x1 = 1-x0\n",
    "    s = np.stack([x0, x1], axis=1)\n",
    "    s = s.reshape([size, 2])\n",
    "    return s"
   ]
  },
  {
   "cell_type": "code",
   "execution_count": 30,
   "metadata": {},
   "outputs": [],
   "source": [
    "fake_result = fake_prediction(1000)\n",
    "fake_index = np.argmax(fake_result, axis=1)\n",
    "fake_prob = fake_result[:,1]"
   ]
  },
  {
   "cell_type": "code",
   "execution_count": 31,
   "metadata": {},
   "outputs": [
    {
     "data": {
      "text/plain": [
       "array([[ 0.8981382 ,  0.1018618 ],\n",
       "       [ 0.25008401,  0.74991599],\n",
       "       [ 0.67514029,  0.32485971],\n",
       "       [ 0.94494107,  0.05505893],\n",
       "       [ 0.20734265,  0.79265735],\n",
       "       [ 0.27510173,  0.72489827],\n",
       "       [ 0.12586007,  0.87413993],\n",
       "       [ 0.37334489,  0.62665511],\n",
       "       [ 0.79121609,  0.20878391]])"
      ]
     },
     "execution_count": 31,
     "metadata": {},
     "output_type": "execute_result"
    }
   ],
   "source": [
    "fake_result[1:10]"
   ]
  },
  {
   "cell_type": "code",
   "execution_count": null,
   "metadata": {},
   "outputs": [],
   "source": []
  },
  {
   "cell_type": "code",
   "execution_count": 54,
   "metadata": {},
   "outputs": [
    {
     "data": {
      "text/plain": [
       "0.53437094615038128"
      ]
     },
     "execution_count": 54,
     "metadata": {},
     "output_type": "execute_result"
    }
   ],
   "source": []
  },
  {
   "cell_type": "code",
   "execution_count": 56,
   "metadata": {},
   "outputs": [],
   "source": [
    "result = generate_result(fake_index, fake_prob)"
   ]
  },
  {
   "cell_type": "code",
   "execution_count": 57,
   "metadata": {},
   "outputs": [
    {
     "data": {
      "text/plain": [
       "[((0, 288), 0.53252191173463603),\n",
       " ((323, 410), 0.58116175497752287),\n",
       " ((428, 513), 0.53141422877930755),\n",
       " ((522, 566), 0.5609105026149096),\n",
       " ((577, 583), 0.68735125710388523),\n",
       " ((624, 719), 0.5411929583538061),\n",
       " ((726, 934), 0.49511491584896694)]"
      ]
     },
     "execution_count": 57,
     "metadata": {},
     "output_type": "execute_result"
    }
   ],
   "source": [
    "result"
   ]
  },
  {
   "cell_type": "code",
   "execution_count": 59,
   "metadata": {},
   "outputs": [],
   "source": [
    "def generate_result_file(data, filepath, version='VERSION 1.0'):\n",
    "    result = dict()\n",
    "    result['version'] = version\n",
    "    \n",
    "    results = dict()\n",
    "    \n",
    "    for key in data.keys():\n",
    "        \n",
    "        tmp_result = []\n",
    "        for seg in data[key]:\n",
    "            tmp_dict = dict()\n",
    "            tmp_dict['score'] = seg[1]\n",
    "            tmp_dict['segment'] = seg[0]\n",
    "        tmp_result.append(tmp_dict)\n",
    "        results[key] = tmp_result\n",
    "    \n",
    "    result['results'] = results\n",
    "    \n",
    "    r = json.dumps(results)\n",
    "    with open(filepath, 'w+') as f:\n",
    "        f.write(r)\n",
    "    print(\"generate finished\")"
   ]
  },
  {
   "cell_type": "code",
   "execution_count": 60,
   "metadata": {},
   "outputs": [],
   "source": [
    "result = {\"vdwaf\": result}"
   ]
  },
  {
   "cell_type": "code",
   "execution_count": 61,
   "metadata": {},
   "outputs": [
    {
     "name": "stdout",
     "output_type": "stream",
     "text": [
      "generate finished\n"
     ]
    }
   ],
   "source": [
    "generate_result_file(result, 'ss.json')"
   ]
  },
  {
   "cell_type": "code",
   "execution_count": null,
   "metadata": {},
   "outputs": [],
   "source": []
  }
 ],
 "metadata": {
  "kernelspec": {
   "display_name": "Python 2",
   "language": "python",
   "name": "python2"
  },
  "language_info": {
   "codemirror_mode": {
    "name": "ipython",
    "version": 2
   },
   "file_extension": ".py",
   "mimetype": "text/x-python",
   "name": "python",
   "nbconvert_exporter": "python",
   "pygments_lexer": "ipython2",
   "version": "2.7.10"
  }
 },
 "nbformat": 4,
 "nbformat_minor": 2
}
